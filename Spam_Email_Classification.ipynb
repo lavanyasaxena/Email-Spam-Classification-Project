{
 "cells": [
  {
   "cell_type": "markdown",
   "id": "37c2412d-1e88-4aff-bc6b-40ff78330277",
   "metadata": {},
   "source": [
    "# **PROJECT**"
   ]
  },
  {
   "cell_type": "markdown",
   "id": "c408fc07-fa6d-48be-964a-01d91b26e6ed",
   "metadata": {},
   "source": [
    "## Spam Email Classification"
   ]
  },
  {
   "cell_type": "markdown",
   "id": "14fec489-8eaa-4bed-9bc1-7967ea9dcbad",
   "metadata": {},
   "source": [
    "### The Spambase dataset is taken from the UC Irvine Machine Learning Repository: http://archive.ics.uci.edu/ml/datasets/Spambase"
   ]
  },
  {
   "cell_type": "markdown",
   "id": "c52fada1-8ece-451b-89a3-65ff8a1447ff",
   "metadata": {},
   "source": [
    "### Step 1: Importing necessary libraries and dataset "
   ]
  },
  {
   "cell_type": "code",
   "execution_count": 355,
   "id": "88839ea6-7aad-4382-b8f9-f3f8360d226d",
   "metadata": {},
   "outputs": [],
   "source": [
    "# Firstly we require these basic libraries\n",
    "import numpy as np\n",
    "import pandas as pd\n",
    "import matplotlib.pyplot as plt\n",
    "import seaborn as sns"
   ]
  },
  {
   "cell_type": "code",
   "execution_count": 230,
   "id": "b816d833-51c3-46df-8d6a-20434d0a0fec",
   "metadata": {},
   "outputs": [],
   "source": [
    "data_path=\"C:\\\\Users\\\\lavan\\\\OneDrive\\\\Desktop\\\\spambase\\\\spambase.data\"\n",
    "data=pd.read_csv(data_path, sep=',', header=None)\n",
    "#data.rename(columns={57:'is_spam'},inplace=True)"
   ]
  },
  {
   "cell_type": "code",
   "execution_count": 232,
   "id": "27840fa4-fa3d-400e-8d8a-dc757c7657b4",
   "metadata": {},
   "outputs": [
    {
     "data": {
      "text/html": [
       "<div>\n",
       "<style scoped>\n",
       "    .dataframe tbody tr th:only-of-type {\n",
       "        vertical-align: middle;\n",
       "    }\n",
       "\n",
       "    .dataframe tbody tr th {\n",
       "        vertical-align: top;\n",
       "    }\n",
       "\n",
       "    .dataframe thead th {\n",
       "        text-align: right;\n",
       "    }\n",
       "</style>\n",
       "<table border=\"1\" class=\"dataframe\">\n",
       "  <thead>\n",
       "    <tr style=\"text-align: right;\">\n",
       "      <th></th>\n",
       "      <th>0</th>\n",
       "      <th>1</th>\n",
       "      <th>2</th>\n",
       "      <th>3</th>\n",
       "      <th>4</th>\n",
       "      <th>5</th>\n",
       "      <th>6</th>\n",
       "      <th>7</th>\n",
       "      <th>8</th>\n",
       "      <th>9</th>\n",
       "      <th>...</th>\n",
       "      <th>48</th>\n",
       "      <th>49</th>\n",
       "      <th>50</th>\n",
       "      <th>51</th>\n",
       "      <th>52</th>\n",
       "      <th>53</th>\n",
       "      <th>54</th>\n",
       "      <th>55</th>\n",
       "      <th>56</th>\n",
       "      <th>57</th>\n",
       "    </tr>\n",
       "  </thead>\n",
       "  <tbody>\n",
       "    <tr>\n",
       "      <th>0</th>\n",
       "      <td>0.00</td>\n",
       "      <td>0.64</td>\n",
       "      <td>0.64</td>\n",
       "      <td>0.0</td>\n",
       "      <td>0.32</td>\n",
       "      <td>0.00</td>\n",
       "      <td>0.00</td>\n",
       "      <td>0.00</td>\n",
       "      <td>0.00</td>\n",
       "      <td>0.00</td>\n",
       "      <td>...</td>\n",
       "      <td>0.000</td>\n",
       "      <td>0.000</td>\n",
       "      <td>0.0</td>\n",
       "      <td>0.778</td>\n",
       "      <td>0.000</td>\n",
       "      <td>0.000</td>\n",
       "      <td>3.756</td>\n",
       "      <td>61</td>\n",
       "      <td>278</td>\n",
       "      <td>1</td>\n",
       "    </tr>\n",
       "    <tr>\n",
       "      <th>1</th>\n",
       "      <td>0.21</td>\n",
       "      <td>0.28</td>\n",
       "      <td>0.50</td>\n",
       "      <td>0.0</td>\n",
       "      <td>0.14</td>\n",
       "      <td>0.28</td>\n",
       "      <td>0.21</td>\n",
       "      <td>0.07</td>\n",
       "      <td>0.00</td>\n",
       "      <td>0.94</td>\n",
       "      <td>...</td>\n",
       "      <td>0.000</td>\n",
       "      <td>0.132</td>\n",
       "      <td>0.0</td>\n",
       "      <td>0.372</td>\n",
       "      <td>0.180</td>\n",
       "      <td>0.048</td>\n",
       "      <td>5.114</td>\n",
       "      <td>101</td>\n",
       "      <td>1028</td>\n",
       "      <td>1</td>\n",
       "    </tr>\n",
       "    <tr>\n",
       "      <th>2</th>\n",
       "      <td>0.06</td>\n",
       "      <td>0.00</td>\n",
       "      <td>0.71</td>\n",
       "      <td>0.0</td>\n",
       "      <td>1.23</td>\n",
       "      <td>0.19</td>\n",
       "      <td>0.19</td>\n",
       "      <td>0.12</td>\n",
       "      <td>0.64</td>\n",
       "      <td>0.25</td>\n",
       "      <td>...</td>\n",
       "      <td>0.010</td>\n",
       "      <td>0.143</td>\n",
       "      <td>0.0</td>\n",
       "      <td>0.276</td>\n",
       "      <td>0.184</td>\n",
       "      <td>0.010</td>\n",
       "      <td>9.821</td>\n",
       "      <td>485</td>\n",
       "      <td>2259</td>\n",
       "      <td>1</td>\n",
       "    </tr>\n",
       "    <tr>\n",
       "      <th>3</th>\n",
       "      <td>0.00</td>\n",
       "      <td>0.00</td>\n",
       "      <td>0.00</td>\n",
       "      <td>0.0</td>\n",
       "      <td>0.63</td>\n",
       "      <td>0.00</td>\n",
       "      <td>0.31</td>\n",
       "      <td>0.63</td>\n",
       "      <td>0.31</td>\n",
       "      <td>0.63</td>\n",
       "      <td>...</td>\n",
       "      <td>0.000</td>\n",
       "      <td>0.137</td>\n",
       "      <td>0.0</td>\n",
       "      <td>0.137</td>\n",
       "      <td>0.000</td>\n",
       "      <td>0.000</td>\n",
       "      <td>3.537</td>\n",
       "      <td>40</td>\n",
       "      <td>191</td>\n",
       "      <td>1</td>\n",
       "    </tr>\n",
       "    <tr>\n",
       "      <th>4</th>\n",
       "      <td>0.00</td>\n",
       "      <td>0.00</td>\n",
       "      <td>0.00</td>\n",
       "      <td>0.0</td>\n",
       "      <td>0.63</td>\n",
       "      <td>0.00</td>\n",
       "      <td>0.31</td>\n",
       "      <td>0.63</td>\n",
       "      <td>0.31</td>\n",
       "      <td>0.63</td>\n",
       "      <td>...</td>\n",
       "      <td>0.000</td>\n",
       "      <td>0.135</td>\n",
       "      <td>0.0</td>\n",
       "      <td>0.135</td>\n",
       "      <td>0.000</td>\n",
       "      <td>0.000</td>\n",
       "      <td>3.537</td>\n",
       "      <td>40</td>\n",
       "      <td>191</td>\n",
       "      <td>1</td>\n",
       "    </tr>\n",
       "    <tr>\n",
       "      <th>...</th>\n",
       "      <td>...</td>\n",
       "      <td>...</td>\n",
       "      <td>...</td>\n",
       "      <td>...</td>\n",
       "      <td>...</td>\n",
       "      <td>...</td>\n",
       "      <td>...</td>\n",
       "      <td>...</td>\n",
       "      <td>...</td>\n",
       "      <td>...</td>\n",
       "      <td>...</td>\n",
       "      <td>...</td>\n",
       "      <td>...</td>\n",
       "      <td>...</td>\n",
       "      <td>...</td>\n",
       "      <td>...</td>\n",
       "      <td>...</td>\n",
       "      <td>...</td>\n",
       "      <td>...</td>\n",
       "      <td>...</td>\n",
       "      <td>...</td>\n",
       "    </tr>\n",
       "    <tr>\n",
       "      <th>4596</th>\n",
       "      <td>0.31</td>\n",
       "      <td>0.00</td>\n",
       "      <td>0.62</td>\n",
       "      <td>0.0</td>\n",
       "      <td>0.00</td>\n",
       "      <td>0.31</td>\n",
       "      <td>0.00</td>\n",
       "      <td>0.00</td>\n",
       "      <td>0.00</td>\n",
       "      <td>0.00</td>\n",
       "      <td>...</td>\n",
       "      <td>0.000</td>\n",
       "      <td>0.232</td>\n",
       "      <td>0.0</td>\n",
       "      <td>0.000</td>\n",
       "      <td>0.000</td>\n",
       "      <td>0.000</td>\n",
       "      <td>1.142</td>\n",
       "      <td>3</td>\n",
       "      <td>88</td>\n",
       "      <td>0</td>\n",
       "    </tr>\n",
       "    <tr>\n",
       "      <th>4597</th>\n",
       "      <td>0.00</td>\n",
       "      <td>0.00</td>\n",
       "      <td>0.00</td>\n",
       "      <td>0.0</td>\n",
       "      <td>0.00</td>\n",
       "      <td>0.00</td>\n",
       "      <td>0.00</td>\n",
       "      <td>0.00</td>\n",
       "      <td>0.00</td>\n",
       "      <td>0.00</td>\n",
       "      <td>...</td>\n",
       "      <td>0.000</td>\n",
       "      <td>0.000</td>\n",
       "      <td>0.0</td>\n",
       "      <td>0.353</td>\n",
       "      <td>0.000</td>\n",
       "      <td>0.000</td>\n",
       "      <td>1.555</td>\n",
       "      <td>4</td>\n",
       "      <td>14</td>\n",
       "      <td>0</td>\n",
       "    </tr>\n",
       "    <tr>\n",
       "      <th>4598</th>\n",
       "      <td>0.30</td>\n",
       "      <td>0.00</td>\n",
       "      <td>0.30</td>\n",
       "      <td>0.0</td>\n",
       "      <td>0.00</td>\n",
       "      <td>0.00</td>\n",
       "      <td>0.00</td>\n",
       "      <td>0.00</td>\n",
       "      <td>0.00</td>\n",
       "      <td>0.00</td>\n",
       "      <td>...</td>\n",
       "      <td>0.102</td>\n",
       "      <td>0.718</td>\n",
       "      <td>0.0</td>\n",
       "      <td>0.000</td>\n",
       "      <td>0.000</td>\n",
       "      <td>0.000</td>\n",
       "      <td>1.404</td>\n",
       "      <td>6</td>\n",
       "      <td>118</td>\n",
       "      <td>0</td>\n",
       "    </tr>\n",
       "    <tr>\n",
       "      <th>4599</th>\n",
       "      <td>0.96</td>\n",
       "      <td>0.00</td>\n",
       "      <td>0.00</td>\n",
       "      <td>0.0</td>\n",
       "      <td>0.32</td>\n",
       "      <td>0.00</td>\n",
       "      <td>0.00</td>\n",
       "      <td>0.00</td>\n",
       "      <td>0.00</td>\n",
       "      <td>0.00</td>\n",
       "      <td>...</td>\n",
       "      <td>0.000</td>\n",
       "      <td>0.057</td>\n",
       "      <td>0.0</td>\n",
       "      <td>0.000</td>\n",
       "      <td>0.000</td>\n",
       "      <td>0.000</td>\n",
       "      <td>1.147</td>\n",
       "      <td>5</td>\n",
       "      <td>78</td>\n",
       "      <td>0</td>\n",
       "    </tr>\n",
       "    <tr>\n",
       "      <th>4600</th>\n",
       "      <td>0.00</td>\n",
       "      <td>0.00</td>\n",
       "      <td>0.65</td>\n",
       "      <td>0.0</td>\n",
       "      <td>0.00</td>\n",
       "      <td>0.00</td>\n",
       "      <td>0.00</td>\n",
       "      <td>0.00</td>\n",
       "      <td>0.00</td>\n",
       "      <td>0.00</td>\n",
       "      <td>...</td>\n",
       "      <td>0.000</td>\n",
       "      <td>0.000</td>\n",
       "      <td>0.0</td>\n",
       "      <td>0.125</td>\n",
       "      <td>0.000</td>\n",
       "      <td>0.000</td>\n",
       "      <td>1.250</td>\n",
       "      <td>5</td>\n",
       "      <td>40</td>\n",
       "      <td>0</td>\n",
       "    </tr>\n",
       "  </tbody>\n",
       "</table>\n",
       "<p>4601 rows × 58 columns</p>\n",
       "</div>"
      ],
      "text/plain": [
       "        0     1     2    3     4     5     6     7     8     9   ...     48  \\\n",
       "0     0.00  0.64  0.64  0.0  0.32  0.00  0.00  0.00  0.00  0.00  ...  0.000   \n",
       "1     0.21  0.28  0.50  0.0  0.14  0.28  0.21  0.07  0.00  0.94  ...  0.000   \n",
       "2     0.06  0.00  0.71  0.0  1.23  0.19  0.19  0.12  0.64  0.25  ...  0.010   \n",
       "3     0.00  0.00  0.00  0.0  0.63  0.00  0.31  0.63  0.31  0.63  ...  0.000   \n",
       "4     0.00  0.00  0.00  0.0  0.63  0.00  0.31  0.63  0.31  0.63  ...  0.000   \n",
       "...    ...   ...   ...  ...   ...   ...   ...   ...   ...   ...  ...    ...   \n",
       "4596  0.31  0.00  0.62  0.0  0.00  0.31  0.00  0.00  0.00  0.00  ...  0.000   \n",
       "4597  0.00  0.00  0.00  0.0  0.00  0.00  0.00  0.00  0.00  0.00  ...  0.000   \n",
       "4598  0.30  0.00  0.30  0.0  0.00  0.00  0.00  0.00  0.00  0.00  ...  0.102   \n",
       "4599  0.96  0.00  0.00  0.0  0.32  0.00  0.00  0.00  0.00  0.00  ...  0.000   \n",
       "4600  0.00  0.00  0.65  0.0  0.00  0.00  0.00  0.00  0.00  0.00  ...  0.000   \n",
       "\n",
       "         49   50     51     52     53     54   55    56  57  \n",
       "0     0.000  0.0  0.778  0.000  0.000  3.756   61   278   1  \n",
       "1     0.132  0.0  0.372  0.180  0.048  5.114  101  1028   1  \n",
       "2     0.143  0.0  0.276  0.184  0.010  9.821  485  2259   1  \n",
       "3     0.137  0.0  0.137  0.000  0.000  3.537   40   191   1  \n",
       "4     0.135  0.0  0.135  0.000  0.000  3.537   40   191   1  \n",
       "...     ...  ...    ...    ...    ...    ...  ...   ...  ..  \n",
       "4596  0.232  0.0  0.000  0.000  0.000  1.142    3    88   0  \n",
       "4597  0.000  0.0  0.353  0.000  0.000  1.555    4    14   0  \n",
       "4598  0.718  0.0  0.000  0.000  0.000  1.404    6   118   0  \n",
       "4599  0.057  0.0  0.000  0.000  0.000  1.147    5    78   0  \n",
       "4600  0.000  0.0  0.125  0.000  0.000  1.250    5    40   0  \n",
       "\n",
       "[4601 rows x 58 columns]"
      ]
     },
     "execution_count": 232,
     "metadata": {},
     "output_type": "execute_result"
    }
   ],
   "source": [
    "data"
   ]
  },
  {
   "cell_type": "markdown",
   "id": "16a64314-b3ad-44ed-b4ed-2ae34bf7c572",
   "metadata": {},
   "source": [
    "#### **Now, let's explore our data**"
   ]
  },
  {
   "cell_type": "code",
   "execution_count": 235,
   "id": "e7e79e13-15cb-4625-9e6d-003c18387409",
   "metadata": {},
   "outputs": [
    {
     "data": {
      "text/plain": [
       "(4601, 58)"
      ]
     },
     "execution_count": 235,
     "metadata": {},
     "output_type": "execute_result"
    }
   ],
   "source": [
    "data.shape"
   ]
  },
  {
   "cell_type": "code",
   "execution_count": 237,
   "id": "692674bf-4940-4087-85fb-8d1b0122293c",
   "metadata": {},
   "outputs": [
    {
     "name": "stdout",
     "output_type": "stream",
     "text": [
      "<class 'pandas.core.frame.DataFrame'>\n",
      "RangeIndex: 4601 entries, 0 to 4600\n",
      "Data columns (total 58 columns):\n",
      " #   Column  Non-Null Count  Dtype  \n",
      "---  ------  --------------  -----  \n",
      " 0   0       4601 non-null   float64\n",
      " 1   1       4601 non-null   float64\n",
      " 2   2       4601 non-null   float64\n",
      " 3   3       4601 non-null   float64\n",
      " 4   4       4601 non-null   float64\n",
      " 5   5       4601 non-null   float64\n",
      " 6   6       4601 non-null   float64\n",
      " 7   7       4601 non-null   float64\n",
      " 8   8       4601 non-null   float64\n",
      " 9   9       4601 non-null   float64\n",
      " 10  10      4601 non-null   float64\n",
      " 11  11      4601 non-null   float64\n",
      " 12  12      4601 non-null   float64\n",
      " 13  13      4601 non-null   float64\n",
      " 14  14      4601 non-null   float64\n",
      " 15  15      4601 non-null   float64\n",
      " 16  16      4601 non-null   float64\n",
      " 17  17      4601 non-null   float64\n",
      " 18  18      4601 non-null   float64\n",
      " 19  19      4601 non-null   float64\n",
      " 20  20      4601 non-null   float64\n",
      " 21  21      4601 non-null   float64\n",
      " 22  22      4601 non-null   float64\n",
      " 23  23      4601 non-null   float64\n",
      " 24  24      4601 non-null   float64\n",
      " 25  25      4601 non-null   float64\n",
      " 26  26      4601 non-null   float64\n",
      " 27  27      4601 non-null   float64\n",
      " 28  28      4601 non-null   float64\n",
      " 29  29      4601 non-null   float64\n",
      " 30  30      4601 non-null   float64\n",
      " 31  31      4601 non-null   float64\n",
      " 32  32      4601 non-null   float64\n",
      " 33  33      4601 non-null   float64\n",
      " 34  34      4601 non-null   float64\n",
      " 35  35      4601 non-null   float64\n",
      " 36  36      4601 non-null   float64\n",
      " 37  37      4601 non-null   float64\n",
      " 38  38      4601 non-null   float64\n",
      " 39  39      4601 non-null   float64\n",
      " 40  40      4601 non-null   float64\n",
      " 41  41      4601 non-null   float64\n",
      " 42  42      4601 non-null   float64\n",
      " 43  43      4601 non-null   float64\n",
      " 44  44      4601 non-null   float64\n",
      " 45  45      4601 non-null   float64\n",
      " 46  46      4601 non-null   float64\n",
      " 47  47      4601 non-null   float64\n",
      " 48  48      4601 non-null   float64\n",
      " 49  49      4601 non-null   float64\n",
      " 50  50      4601 non-null   float64\n",
      " 51  51      4601 non-null   float64\n",
      " 52  52      4601 non-null   float64\n",
      " 53  53      4601 non-null   float64\n",
      " 54  54      4601 non-null   float64\n",
      " 55  55      4601 non-null   int64  \n",
      " 56  56      4601 non-null   int64  \n",
      " 57  57      4601 non-null   int64  \n",
      "dtypes: float64(55), int64(3)\n",
      "memory usage: 2.0 MB\n"
     ]
    }
   ],
   "source": [
    "data.info()"
   ]
  },
  {
   "cell_type": "code",
   "execution_count": 239,
   "id": "41d4ea06-995b-4d57-9ab6-bca6bb38e733",
   "metadata": {},
   "outputs": [
    {
     "data": {
      "text/plain": [
       "Index([ 0,  1,  2,  3,  4,  5,  6,  7,  8,  9, 10, 11, 12, 13, 14, 15, 16, 17,\n",
       "       18, 19, 20, 21, 22, 23, 24, 25, 26, 27, 28, 29, 30, 31, 32, 33, 34, 35,\n",
       "       36, 37, 38, 39, 40, 41, 42, 43, 44, 45, 46, 47, 48, 49, 50, 51, 52, 53,\n",
       "       54, 55, 56, 57],\n",
       "      dtype='int64')"
      ]
     },
     "execution_count": 239,
     "metadata": {},
     "output_type": "execute_result"
    }
   ],
   "source": [
    "data.columns"
   ]
  },
  {
   "cell_type": "code",
   "execution_count": 241,
   "id": "c4c9a1b1-985c-4076-9192-1e977b202c04",
   "metadata": {},
   "outputs": [
    {
     "data": {
      "text/html": [
       "<div>\n",
       "<style scoped>\n",
       "    .dataframe tbody tr th:only-of-type {\n",
       "        vertical-align: middle;\n",
       "    }\n",
       "\n",
       "    .dataframe tbody tr th {\n",
       "        vertical-align: top;\n",
       "    }\n",
       "\n",
       "    .dataframe thead th {\n",
       "        text-align: right;\n",
       "    }\n",
       "</style>\n",
       "<table border=\"1\" class=\"dataframe\">\n",
       "  <thead>\n",
       "    <tr style=\"text-align: right;\">\n",
       "      <th></th>\n",
       "      <th>0</th>\n",
       "      <th>1</th>\n",
       "      <th>2</th>\n",
       "      <th>3</th>\n",
       "      <th>4</th>\n",
       "      <th>5</th>\n",
       "      <th>6</th>\n",
       "      <th>7</th>\n",
       "      <th>8</th>\n",
       "      <th>9</th>\n",
       "      <th>...</th>\n",
       "      <th>48</th>\n",
       "      <th>49</th>\n",
       "      <th>50</th>\n",
       "      <th>51</th>\n",
       "      <th>52</th>\n",
       "      <th>53</th>\n",
       "      <th>54</th>\n",
       "      <th>55</th>\n",
       "      <th>56</th>\n",
       "      <th>57</th>\n",
       "    </tr>\n",
       "  </thead>\n",
       "  <tbody>\n",
       "    <tr>\n",
       "      <th>count</th>\n",
       "      <td>4601.000000</td>\n",
       "      <td>4601.000000</td>\n",
       "      <td>4601.000000</td>\n",
       "      <td>4601.000000</td>\n",
       "      <td>4601.000000</td>\n",
       "      <td>4601.000000</td>\n",
       "      <td>4601.000000</td>\n",
       "      <td>4601.000000</td>\n",
       "      <td>4601.000000</td>\n",
       "      <td>4601.000000</td>\n",
       "      <td>...</td>\n",
       "      <td>4601.000000</td>\n",
       "      <td>4601.000000</td>\n",
       "      <td>4601.000000</td>\n",
       "      <td>4601.000000</td>\n",
       "      <td>4601.000000</td>\n",
       "      <td>4601.000000</td>\n",
       "      <td>4601.000000</td>\n",
       "      <td>4601.000000</td>\n",
       "      <td>4601.000000</td>\n",
       "      <td>4601.000000</td>\n",
       "    </tr>\n",
       "    <tr>\n",
       "      <th>mean</th>\n",
       "      <td>0.104553</td>\n",
       "      <td>0.213015</td>\n",
       "      <td>0.280656</td>\n",
       "      <td>0.065425</td>\n",
       "      <td>0.312223</td>\n",
       "      <td>0.095901</td>\n",
       "      <td>0.114208</td>\n",
       "      <td>0.105295</td>\n",
       "      <td>0.090067</td>\n",
       "      <td>0.239413</td>\n",
       "      <td>...</td>\n",
       "      <td>0.038575</td>\n",
       "      <td>0.139030</td>\n",
       "      <td>0.016976</td>\n",
       "      <td>0.269071</td>\n",
       "      <td>0.075811</td>\n",
       "      <td>0.044238</td>\n",
       "      <td>5.191515</td>\n",
       "      <td>52.172789</td>\n",
       "      <td>283.289285</td>\n",
       "      <td>0.394045</td>\n",
       "    </tr>\n",
       "    <tr>\n",
       "      <th>std</th>\n",
       "      <td>0.305358</td>\n",
       "      <td>1.290575</td>\n",
       "      <td>0.504143</td>\n",
       "      <td>1.395151</td>\n",
       "      <td>0.672513</td>\n",
       "      <td>0.273824</td>\n",
       "      <td>0.391441</td>\n",
       "      <td>0.401071</td>\n",
       "      <td>0.278616</td>\n",
       "      <td>0.644755</td>\n",
       "      <td>...</td>\n",
       "      <td>0.243471</td>\n",
       "      <td>0.270355</td>\n",
       "      <td>0.109394</td>\n",
       "      <td>0.815672</td>\n",
       "      <td>0.245882</td>\n",
       "      <td>0.429342</td>\n",
       "      <td>31.729449</td>\n",
       "      <td>194.891310</td>\n",
       "      <td>606.347851</td>\n",
       "      <td>0.488698</td>\n",
       "    </tr>\n",
       "    <tr>\n",
       "      <th>min</th>\n",
       "      <td>0.000000</td>\n",
       "      <td>0.000000</td>\n",
       "      <td>0.000000</td>\n",
       "      <td>0.000000</td>\n",
       "      <td>0.000000</td>\n",
       "      <td>0.000000</td>\n",
       "      <td>0.000000</td>\n",
       "      <td>0.000000</td>\n",
       "      <td>0.000000</td>\n",
       "      <td>0.000000</td>\n",
       "      <td>...</td>\n",
       "      <td>0.000000</td>\n",
       "      <td>0.000000</td>\n",
       "      <td>0.000000</td>\n",
       "      <td>0.000000</td>\n",
       "      <td>0.000000</td>\n",
       "      <td>0.000000</td>\n",
       "      <td>1.000000</td>\n",
       "      <td>1.000000</td>\n",
       "      <td>1.000000</td>\n",
       "      <td>0.000000</td>\n",
       "    </tr>\n",
       "    <tr>\n",
       "      <th>25%</th>\n",
       "      <td>0.000000</td>\n",
       "      <td>0.000000</td>\n",
       "      <td>0.000000</td>\n",
       "      <td>0.000000</td>\n",
       "      <td>0.000000</td>\n",
       "      <td>0.000000</td>\n",
       "      <td>0.000000</td>\n",
       "      <td>0.000000</td>\n",
       "      <td>0.000000</td>\n",
       "      <td>0.000000</td>\n",
       "      <td>...</td>\n",
       "      <td>0.000000</td>\n",
       "      <td>0.000000</td>\n",
       "      <td>0.000000</td>\n",
       "      <td>0.000000</td>\n",
       "      <td>0.000000</td>\n",
       "      <td>0.000000</td>\n",
       "      <td>1.588000</td>\n",
       "      <td>6.000000</td>\n",
       "      <td>35.000000</td>\n",
       "      <td>0.000000</td>\n",
       "    </tr>\n",
       "    <tr>\n",
       "      <th>50%</th>\n",
       "      <td>0.000000</td>\n",
       "      <td>0.000000</td>\n",
       "      <td>0.000000</td>\n",
       "      <td>0.000000</td>\n",
       "      <td>0.000000</td>\n",
       "      <td>0.000000</td>\n",
       "      <td>0.000000</td>\n",
       "      <td>0.000000</td>\n",
       "      <td>0.000000</td>\n",
       "      <td>0.000000</td>\n",
       "      <td>...</td>\n",
       "      <td>0.000000</td>\n",
       "      <td>0.065000</td>\n",
       "      <td>0.000000</td>\n",
       "      <td>0.000000</td>\n",
       "      <td>0.000000</td>\n",
       "      <td>0.000000</td>\n",
       "      <td>2.276000</td>\n",
       "      <td>15.000000</td>\n",
       "      <td>95.000000</td>\n",
       "      <td>0.000000</td>\n",
       "    </tr>\n",
       "    <tr>\n",
       "      <th>75%</th>\n",
       "      <td>0.000000</td>\n",
       "      <td>0.000000</td>\n",
       "      <td>0.420000</td>\n",
       "      <td>0.000000</td>\n",
       "      <td>0.380000</td>\n",
       "      <td>0.000000</td>\n",
       "      <td>0.000000</td>\n",
       "      <td>0.000000</td>\n",
       "      <td>0.000000</td>\n",
       "      <td>0.160000</td>\n",
       "      <td>...</td>\n",
       "      <td>0.000000</td>\n",
       "      <td>0.188000</td>\n",
       "      <td>0.000000</td>\n",
       "      <td>0.315000</td>\n",
       "      <td>0.052000</td>\n",
       "      <td>0.000000</td>\n",
       "      <td>3.706000</td>\n",
       "      <td>43.000000</td>\n",
       "      <td>266.000000</td>\n",
       "      <td>1.000000</td>\n",
       "    </tr>\n",
       "    <tr>\n",
       "      <th>max</th>\n",
       "      <td>4.540000</td>\n",
       "      <td>14.280000</td>\n",
       "      <td>5.100000</td>\n",
       "      <td>42.810000</td>\n",
       "      <td>10.000000</td>\n",
       "      <td>5.880000</td>\n",
       "      <td>7.270000</td>\n",
       "      <td>11.110000</td>\n",
       "      <td>5.260000</td>\n",
       "      <td>18.180000</td>\n",
       "      <td>...</td>\n",
       "      <td>4.385000</td>\n",
       "      <td>9.752000</td>\n",
       "      <td>4.081000</td>\n",
       "      <td>32.478000</td>\n",
       "      <td>6.003000</td>\n",
       "      <td>19.829000</td>\n",
       "      <td>1102.500000</td>\n",
       "      <td>9989.000000</td>\n",
       "      <td>15841.000000</td>\n",
       "      <td>1.000000</td>\n",
       "    </tr>\n",
       "  </tbody>\n",
       "</table>\n",
       "<p>8 rows × 58 columns</p>\n",
       "</div>"
      ],
      "text/plain": [
       "                0            1            2            3            4   \\\n",
       "count  4601.000000  4601.000000  4601.000000  4601.000000  4601.000000   \n",
       "mean      0.104553     0.213015     0.280656     0.065425     0.312223   \n",
       "std       0.305358     1.290575     0.504143     1.395151     0.672513   \n",
       "min       0.000000     0.000000     0.000000     0.000000     0.000000   \n",
       "25%       0.000000     0.000000     0.000000     0.000000     0.000000   \n",
       "50%       0.000000     0.000000     0.000000     0.000000     0.000000   \n",
       "75%       0.000000     0.000000     0.420000     0.000000     0.380000   \n",
       "max       4.540000    14.280000     5.100000    42.810000    10.000000   \n",
       "\n",
       "                5            6            7            8            9   ...  \\\n",
       "count  4601.000000  4601.000000  4601.000000  4601.000000  4601.000000  ...   \n",
       "mean      0.095901     0.114208     0.105295     0.090067     0.239413  ...   \n",
       "std       0.273824     0.391441     0.401071     0.278616     0.644755  ...   \n",
       "min       0.000000     0.000000     0.000000     0.000000     0.000000  ...   \n",
       "25%       0.000000     0.000000     0.000000     0.000000     0.000000  ...   \n",
       "50%       0.000000     0.000000     0.000000     0.000000     0.000000  ...   \n",
       "75%       0.000000     0.000000     0.000000     0.000000     0.160000  ...   \n",
       "max       5.880000     7.270000    11.110000     5.260000    18.180000  ...   \n",
       "\n",
       "                48           49           50           51           52  \\\n",
       "count  4601.000000  4601.000000  4601.000000  4601.000000  4601.000000   \n",
       "mean      0.038575     0.139030     0.016976     0.269071     0.075811   \n",
       "std       0.243471     0.270355     0.109394     0.815672     0.245882   \n",
       "min       0.000000     0.000000     0.000000     0.000000     0.000000   \n",
       "25%       0.000000     0.000000     0.000000     0.000000     0.000000   \n",
       "50%       0.000000     0.065000     0.000000     0.000000     0.000000   \n",
       "75%       0.000000     0.188000     0.000000     0.315000     0.052000   \n",
       "max       4.385000     9.752000     4.081000    32.478000     6.003000   \n",
       "\n",
       "                53           54           55            56           57  \n",
       "count  4601.000000  4601.000000  4601.000000   4601.000000  4601.000000  \n",
       "mean      0.044238     5.191515    52.172789    283.289285     0.394045  \n",
       "std       0.429342    31.729449   194.891310    606.347851     0.488698  \n",
       "min       0.000000     1.000000     1.000000      1.000000     0.000000  \n",
       "25%       0.000000     1.588000     6.000000     35.000000     0.000000  \n",
       "50%       0.000000     2.276000    15.000000     95.000000     0.000000  \n",
       "75%       0.000000     3.706000    43.000000    266.000000     1.000000  \n",
       "max      19.829000  1102.500000  9989.000000  15841.000000     1.000000  \n",
       "\n",
       "[8 rows x 58 columns]"
      ]
     },
     "execution_count": 241,
     "metadata": {},
     "output_type": "execute_result"
    }
   ],
   "source": [
    "data.describe()"
   ]
  },
  {
   "cell_type": "markdown",
   "id": "491c53be-57e2-4a3d-8522-c381c1f54bf5",
   "metadata": {},
   "source": [
    "### Step 2: Data Preprocessing"
   ]
  },
  {
   "cell_type": "markdown",
   "id": "0f8f719b-2f45-4f54-9dfb-a8f6da98b4a3",
   "metadata": {},
   "source": [
    "#### **Checking for missing values**"
   ]
  },
  {
   "cell_type": "code",
   "execution_count": 245,
   "id": "98db23e6-3c58-44de-9b73-8d90bee2085e",
   "metadata": {},
   "outputs": [
    {
     "data": {
      "text/plain": [
       "0     0\n",
       "1     0\n",
       "2     0\n",
       "3     0\n",
       "4     0\n",
       "5     0\n",
       "6     0\n",
       "7     0\n",
       "8     0\n",
       "9     0\n",
       "10    0\n",
       "11    0\n",
       "12    0\n",
       "13    0\n",
       "14    0\n",
       "15    0\n",
       "16    0\n",
       "17    0\n",
       "18    0\n",
       "19    0\n",
       "20    0\n",
       "21    0\n",
       "22    0\n",
       "23    0\n",
       "24    0\n",
       "25    0\n",
       "26    0\n",
       "27    0\n",
       "28    0\n",
       "29    0\n",
       "30    0\n",
       "31    0\n",
       "32    0\n",
       "33    0\n",
       "34    0\n",
       "35    0\n",
       "36    0\n",
       "37    0\n",
       "38    0\n",
       "39    0\n",
       "40    0\n",
       "41    0\n",
       "42    0\n",
       "43    0\n",
       "44    0\n",
       "45    0\n",
       "46    0\n",
       "47    0\n",
       "48    0\n",
       "49    0\n",
       "50    0\n",
       "51    0\n",
       "52    0\n",
       "53    0\n",
       "54    0\n",
       "55    0\n",
       "56    0\n",
       "57    0\n",
       "dtype: int64"
      ]
     },
     "execution_count": 245,
     "metadata": {},
     "output_type": "execute_result"
    }
   ],
   "source": [
    "data.isnull().sum()"
   ]
  },
  {
   "cell_type": "code",
   "execution_count": 247,
   "id": "bb72a450-b429-4dac-8963-e7deff55917b",
   "metadata": {},
   "outputs": [
    {
     "data": {
      "text/plain": [
       "0"
      ]
     },
     "execution_count": 247,
     "metadata": {},
     "output_type": "execute_result"
    }
   ],
   "source": [
    "data.isnull().sum().sum()"
   ]
  },
  {
   "cell_type": "markdown",
   "id": "364498dd-c90e-40e5-89e5-49f85390d657",
   "metadata": {},
   "source": [
    "##### *Clearly, there are no missing values.*"
   ]
  },
  {
   "cell_type": "markdown",
   "id": "06113206-ccfd-484d-841e-f420d79bb896",
   "metadata": {},
   "source": [
    "#### From spambase.txt we know that column names are such that:"
   ]
  },
  {
   "cell_type": "code",
   "execution_count": 251,
   "id": "287bc0c6-cea8-4535-964b-5dcfd8141790",
   "metadata": {},
   "outputs": [],
   "source": [
    "# column names\n",
    "col_name=[\"word_freq_make\", \"word_freq_address\", \"word_freq_all\", \"word_freq_3d\", \n",
    "                      \"word_freq_our\", \"word_freq_over\", \"word_freq_remove\", \"word_freq_internet\", \n",
    "                      \"word_freq_order\", \"word_freq_mail\", \"word_freq_receive\", \"word_freq_will\", \n",
    "                      \"word_freq_people\", \"word_freq_report\", \"word_freq_addresses\", \"word_freq_free\", \n",
    "                      \"word_freq_business\", \"word_freq_email\", \"word_freq_you\", \"word_freq_credit\", \n",
    "                      \"word_freq_your\", \"word_freq_font\", \"word_freq_000\", \"word_freq_money\", \"word_freq_hp\", \n",
    "                      \"word_freq_hpl\", \"word_freq_george\", \"word_freq_650\", \"word_freq_lab\", \"word_freq_labs\", \n",
    "                      \"word_freq_telnet\", \"word_freq_857\", \"word_freq_data\", \"word_freq_415\", \"word_freq_85\", \n",
    "                      \"word_freq_technology\", \"word_freq_1999\", \"word_freq_parts\", \"word_freq_pm\", \"word_freq_direct\",\n",
    "                      \"word_freq_cs\", \"word_freq_meeting\", \"word_freq_original\", \"word_freq_project\", \"word_freq_re\", \n",
    "                      \"word_freq_edu\", \"word_freq_table\", \"word_freq_conference\", \"char_freq_;\", \"char_freq_(\", \n",
    "                      \"char_freq_[\", \"char_freq_!\", \"char_freq_$\", \"char_freq_hash\", \"capital_run_length_average\", \n",
    "                      \"capital_run_length_longest\", \"capital_run_length_total\", \"spam\"]"
   ]
  },
  {
   "cell_type": "code",
   "execution_count": 252,
   "id": "288f0392-7c6a-46b9-96fe-6f6f956d1100",
   "metadata": {},
   "outputs": [],
   "source": [
    "# Now let's quickly try to analyze our data with the help of reassigned column names\n",
    "data=pd.read_csv(data_path, sep=',', header=None, names=col_name)"
   ]
  },
  {
   "cell_type": "markdown",
   "id": "87d2e03f-1752-413b-a025-d3029afee481",
   "metadata": {},
   "source": [
    "#### Step 3: Data Visualization"
   ]
  },
  {
   "cell_type": "markdown",
   "id": "2477ca96-3da5-4ff2-b198-a67962117d16",
   "metadata": {},
   "source": [
    "##### **Let's plot a countplot to know how many e-mails are spam or ham(non-spam)**"
   ]
  },
  {
   "cell_type": "code",
   "execution_count": 255,
   "id": "502d73fe-6ebd-495b-a4e2-2e4b3d649bdb",
   "metadata": {},
   "outputs": [
    {
     "data": {
      "image/png": "[encoded data removed]",
      "text/plain": [
       "<Figure size 640x480 with 1 Axes>"
      ]
     },
     "metadata": {},
     "output_type": "display_data"
    }
   ],
   "source": [
    "sns.set_style('whitegrid')\n",
    "ax= sns.countplot(x='spam', hue='spam', data=data, palette='dark')\n",
    "\n",
    "for p in ax.patches:\n",
    "    ax.text(p.get_x() + p.get_width() / 2, \n",
    "            p.get_height(), \n",
    "            int(p.get_height()), \n",
    "            ha='center', va='bottom')\n",
    "\n",
    "plt.show()"
   ]
  },
  {
   "cell_type": "markdown",
   "id": "1d7d18a9-faa2-41f9-af67-b33a2811d8a6",
   "metadata": {},
   "source": [
    "#### Step 4: Outlier detection and Outlier Removal\n",
    "##### Because, this will help in improving model accuracy, preventing misleading insights, and ensure clean, reliable data for analysis."
   ]
  },
  {
   "cell_type": "code",
   "execution_count": 257,
   "id": "33185c25-671b-41bd-b4cf-c9855e5e763b",
   "metadata": {},
   "outputs": [],
   "source": [
    "data_copy=data.copy()\n",
    "# Copying data so that dataset does not get hampered!"
   ]
  },
  {
   "cell_type": "code",
   "execution_count": 258,
   "id": "46a86aff-acc5-4165-9964-e73ffb91fc2e",
   "metadata": {},
   "outputs": [
    {
     "data": {
      "text/plain": [
       "<Axes: ylabel='capital_run_length_total'>"
      ]
     },
     "execution_count": 258,
     "metadata": {},
     "output_type": "execute_result"
    },
    {
     "data": {
      "image/png": "[encoded data removed]",
      "text/plain": [
       "<Figure size 640x480 with 1 Axes>"
      ]
     },
     "metadata": {},
     "output_type": "display_data"
    }
   ],
   "source": [
    "sns.scatterplot(data=data['capital_run_length_total'])"
   ]
  },
  {
   "cell_type": "code",
   "execution_count": 259,
   "id": "2b185cd3-808c-47a8-9eb7-e31321c648f2",
   "metadata": {},
   "outputs": [],
   "source": [
    "# By Visualizing the Scatter Plot we can set the Value Boundaries to remove the outliers.\n",
    "# For capital_run_length_total we can set the upper boundary to 4000:\n",
    "data=data[(data.capital_run_length_total < 4000)]"
   ]
  },
  {
   "cell_type": "code",
   "execution_count": 260,
   "id": "7e01b502-49f0-4bff-a9f5-798ce2732128",
   "metadata": {},
   "outputs": [
    {
     "data": {
      "text/plain": [
       "<Axes: ylabel='capital_run_length_average'>"
      ]
     },
     "execution_count": 260,
     "metadata": {},
     "output_type": "execute_result"
    },
    {
     "data": {
      "image/png": "[encoded data removed]",
      "text/plain": [
       "<Figure size 640x480 with 1 Axes>"
      ]
     },
     "metadata": {},
     "output_type": "display_data"
    }
   ],
   "source": [
    "sns.scatterplot(data = data['capital_run_length_average'])"
   ]
  },
  {
   "cell_type": "code",
   "execution_count": 261,
   "id": "c3d3cf82-6cd4-4965-adef-b0a1d980741e",
   "metadata": {},
   "outputs": [],
   "source": [
    "# Outlier Detection by Visualizing the Scatter Plot for 'capital_run_length_average'\n",
    "# For capital_run_length_total we can set the upper boundary to 200:\n",
    "data=data[(data.capital_run_length_average < 200)]"
   ]
  },
  {
   "cell_type": "code",
   "execution_count": 262,
   "id": "494f2fb7-5084-4744-a713-371ae133fd52",
   "metadata": {},
   "outputs": [
    {
     "data": {
      "text/plain": [
       "<Axes: ylabel='capital_run_length_longest'>"
      ]
     },
     "execution_count": 262,
     "metadata": {},
     "output_type": "execute_result"
    },
    {
     "data": {
      "image/png": "[encoded data removed]",
      "text/plain": [
       "<Figure size 640x480 with 1 Axes>"
      ]
     },
     "metadata": {},
     "output_type": "display_data"
    }
   ],
   "source": [
    "sns.scatterplot(data = data['capital_run_length_longest'])"
   ]
  },
  {
   "cell_type": "code",
   "execution_count": 265,
   "id": "3615352c-1544-4b26-8610-4f36783b7c5e",
   "metadata": {},
   "outputs": [],
   "source": [
    "# Outlier Detection by Visualizing the Scatter Plot for 'capital_run_length_longest'\n",
    "# For capital_run_length_total we can set the upper boundary to 2000:\n",
    "data=data[(data.capital_run_length_longest < 2000)]"
   ]
  },
  {
   "cell_type": "code",
   "execution_count": 266,
   "id": "0a558ab9-b3dc-4736-9dc6-20384296836c",
   "metadata": {},
   "outputs": [
    {
     "data": {
      "text/plain": [
       "(4581, 58)"
      ]
     },
     "execution_count": 266,
     "metadata": {},
     "output_type": "execute_result"
    }
   ],
   "source": [
    "data.shape"
   ]
  },
  {
   "cell_type": "markdown",
   "id": "bb5be3b0-338f-4095-9c8e-cef275bb4cf5",
   "metadata": {},
   "source": [
    "##### *Around 20 outliers are removed*"
   ]
  },
  {
   "cell_type": "markdown",
   "id": "56b2f127-83be-407e-857c-b1028549c833",
   "metadata": {},
   "source": [
    "#### Step 5: Exploratory Data Analysis(EDA)"
   ]
  },
  {
   "cell_type": "code",
   "execution_count": 270,
   "id": "95bfbd6c-94a9-4dea-95df-353220b64f01",
   "metadata": {},
   "outputs": [],
   "source": [
    "# Finding the Correlation of each features so that we can drop one of the two features which are highly correlated.\n",
    "correlation= data.corr()"
   ]
  },
  {
   "cell_type": "code",
   "execution_count": 271,
   "id": "43b81159-15f1-4042-a632-369b0cee3975",
   "metadata": {},
   "outputs": [
    {
     "data": {
      "text/plain": [
       "word_freq_make                 True\n",
       "word_freq_address              True\n",
       "word_freq_all                  True\n",
       "word_freq_3d                   True\n",
       "word_freq_our                  True\n",
       "word_freq_over                 True\n",
       "word_freq_remove               True\n",
       "word_freq_internet             True\n",
       "word_freq_order                True\n",
       "word_freq_mail                 True\n",
       "word_freq_receive              True\n",
       "word_freq_will                 True\n",
       "word_freq_people               True\n",
       "word_freq_report               True\n",
       "word_freq_addresses            True\n",
       "word_freq_free                 True\n",
       "word_freq_business             True\n",
       "word_freq_email                True\n",
       "word_freq_you                  True\n",
       "word_freq_credit               True\n",
       "word_freq_your                 True\n",
       "word_freq_font                 True\n",
       "word_freq_000                  True\n",
       "word_freq_money                True\n",
       "word_freq_hp                   True\n",
       "word_freq_hpl                  True\n",
       "word_freq_george               True\n",
       "word_freq_650                  True\n",
       "word_freq_lab                  True\n",
       "word_freq_labs                 True\n",
       "word_freq_telnet              False\n",
       "word_freq_857                 False\n",
       "word_freq_data                 True\n",
       "word_freq_415                 False\n",
       "word_freq_85                   True\n",
       "word_freq_technology          False\n",
       "word_freq_1999                 True\n",
       "word_freq_parts                True\n",
       "word_freq_pm                   True\n",
       "word_freq_direct              False\n",
       "word_freq_cs                   True\n",
       "word_freq_meeting              True\n",
       "word_freq_original             True\n",
       "word_freq_project              True\n",
       "word_freq_re                   True\n",
       "word_freq_edu                  True\n",
       "word_freq_table                True\n",
       "word_freq_conference           True\n",
       "char_freq_;                    True\n",
       "char_freq_(                    True\n",
       "char_freq_[                    True\n",
       "char_freq_!                    True\n",
       "char_freq_$                    True\n",
       "char_freq_hash                 True\n",
       "capital_run_length_average     True\n",
       "capital_run_length_longest     True\n",
       "capital_run_length_total       True\n",
       "spam                           True\n",
       "dtype: bool"
      ]
     },
     "execution_count": 271,
     "metadata": {},
     "output_type": "execute_result"
    }
   ],
   "source": [
    "# Printing those columns which has correlation more than 70%\n",
    "relation = ~(correlation.mask(np.eye(len(correlation), dtype=bool)).abs() > 0.7).any()\n",
    "relation"
   ]
  },
  {
   "cell_type": "code",
   "execution_count": 272,
   "id": "0f7fb4c5-1047-471c-8e02-ac81bc84a2cd",
   "metadata": {},
   "outputs": [],
   "source": [
    "# After comparing the correlation between features we are removing one of two features that have a correlation higher than 0.7\n",
    "columns = np.full((correlation.shape[0],), True, dtype=bool)\n",
    "for i in range(correlation.shape[0]):\n",
    "    for j in range(i+1, correlation.shape[0]):\n",
    "        if correlation.iloc[i,j] > 0.7:\n",
    "            if columns[j]:\n",
    "                columns[j] = False\n",
    "final_columns = data.columns[columns]\n",
    "data = data[final_columns]"
   ]
  },
  {
   "cell_type": "code",
   "execution_count": 274,
   "id": "8d04939e-cde1-456c-a2c3-b1f5dccc25fc",
   "metadata": {},
   "outputs": [
    {
     "data": {
      "text/plain": [
       "(4581, 54)"
      ]
     },
     "execution_count": 274,
     "metadata": {},
     "output_type": "execute_result"
    }
   ],
   "source": [
    "data.shape"
   ]
  },
  {
   "cell_type": "markdown",
   "id": "b186e609-b41b-465f-98f2-324235cb8253",
   "metadata": {},
   "source": [
    "##### Some features are removed such as:"
   ]
  },
  {
   "cell_type": "code",
   "execution_count": 276,
   "id": "eb49712e-7772-4db2-867b-b0e147d34784",
   "metadata": {},
   "outputs": [
    {
     "data": {
      "text/plain": [
       "Index(['word_freq_make', 'word_freq_address', 'word_freq_all', 'word_freq_3d',\n",
       "       'word_freq_our', 'word_freq_over', 'word_freq_remove',\n",
       "       'word_freq_internet', 'word_freq_order', 'word_freq_mail',\n",
       "       'word_freq_receive', 'word_freq_will', 'word_freq_people',\n",
       "       'word_freq_report', 'word_freq_addresses', 'word_freq_free',\n",
       "       'word_freq_business', 'word_freq_email', 'word_freq_you',\n",
       "       'word_freq_credit', 'word_freq_your', 'word_freq_font', 'word_freq_000',\n",
       "       'word_freq_money', 'word_freq_hp', 'word_freq_hpl', 'word_freq_george',\n",
       "       'word_freq_650', 'word_freq_lab', 'word_freq_labs', 'word_freq_telnet',\n",
       "       'word_freq_data', 'word_freq_85', 'word_freq_1999', 'word_freq_parts',\n",
       "       'word_freq_pm', 'word_freq_cs', 'word_freq_meeting',\n",
       "       'word_freq_original', 'word_freq_project', 'word_freq_re',\n",
       "       'word_freq_edu', 'word_freq_table', 'word_freq_conference',\n",
       "       'char_freq_;', 'char_freq_(', 'char_freq_[', 'char_freq_!',\n",
       "       'char_freq_$', 'char_freq_hash', 'capital_run_length_average',\n",
       "       'capital_run_length_longest', 'capital_run_length_total', 'spam'],\n",
       "      dtype='object')"
      ]
     },
     "execution_count": 276,
     "metadata": {},
     "output_type": "execute_result"
    }
   ],
   "source": [
    "data.columns"
   ]
  },
  {
   "cell_type": "markdown",
   "id": "f151a5bc-3019-4d9d-8579-32c9952129c0",
   "metadata": {},
   "source": [
    "##### CLearly, these following columns are removed from original dataset:\n",
    " 1. \"word_freq_857\"\n",
    " 2.  \"word_freq_415\"\n",
    " 3.   \"word_freq_technology\"\n",
    " 4.   \"word_freq_direct\"."
   ]
  },
  {
   "cell_type": "markdown",
   "id": "30f71908-2ac7-4beb-9dd8-b01a3048a9c0",
   "metadata": {},
   "source": [
    "#### Step 6: Feature Engineering"
   ]
  },
  {
   "cell_type": "markdown",
   "id": "78799143-fbd4-437f-9275-090d9296fff4",
   "metadata": {},
   "source": [
    "##### **Data Transformation**"
   ]
  },
  {
   "cell_type": "code",
   "execution_count": 282,
   "id": "03282917-b463-40cf-9ee9-9f2d3935baff",
   "metadata": {},
   "outputs": [],
   "source": [
    "# Applying *Quantile Transformation* to the columns \"capital_run_length_average\", \"capital_run_length_longest\", \"capital_run_length_total\" because the values of these columns were not in the range of 0-1 as others.\n",
    "col_names = ['capital_run_length_average', 'capital_run_length_longest','capital_run_length_total']\n",
    "features = data[col_names]"
   ]
  },
  {
   "cell_type": "code",
   "execution_count": 283,
   "id": "1d4d42ea-0c09-4e61-aa52-9e8fb6ad057c",
   "metadata": {},
   "outputs": [],
   "source": [
    "from sklearn.preprocessing import QuantileTransformer\n",
    "scaler = QuantileTransformer()"
   ]
  },
  {
   "cell_type": "code",
   "execution_count": 284,
   "id": "d0e88263-277d-4a80-a054-f76aa6774459",
   "metadata": {},
   "outputs": [
    {
     "data": {
      "text/html": [
       "<div>\n",
       "<style scoped>\n",
       "    .dataframe tbody tr th:only-of-type {\n",
       "        vertical-align: middle;\n",
       "    }\n",
       "\n",
       "    .dataframe tbody tr th {\n",
       "        vertical-align: top;\n",
       "    }\n",
       "\n",
       "    .dataframe thead th {\n",
       "        text-align: right;\n",
       "    }\n",
       "</style>\n",
       "<table border=\"1\" class=\"dataframe\">\n",
       "  <thead>\n",
       "    <tr style=\"text-align: right;\">\n",
       "      <th></th>\n",
       "      <th>word_freq_make</th>\n",
       "      <th>word_freq_address</th>\n",
       "      <th>word_freq_all</th>\n",
       "      <th>word_freq_3d</th>\n",
       "      <th>word_freq_our</th>\n",
       "      <th>word_freq_over</th>\n",
       "      <th>word_freq_remove</th>\n",
       "      <th>word_freq_internet</th>\n",
       "      <th>word_freq_order</th>\n",
       "      <th>word_freq_mail</th>\n",
       "      <th>...</th>\n",
       "      <th>char_freq_;</th>\n",
       "      <th>char_freq_(</th>\n",
       "      <th>char_freq_[</th>\n",
       "      <th>char_freq_!</th>\n",
       "      <th>char_freq_$</th>\n",
       "      <th>char_freq_hash</th>\n",
       "      <th>capital_run_length_average</th>\n",
       "      <th>capital_run_length_longest</th>\n",
       "      <th>capital_run_length_total</th>\n",
       "      <th>spam</th>\n",
       "    </tr>\n",
       "  </thead>\n",
       "  <tbody>\n",
       "    <tr>\n",
       "      <th>0</th>\n",
       "      <td>0.00</td>\n",
       "      <td>0.64</td>\n",
       "      <td>0.64</td>\n",
       "      <td>0.0</td>\n",
       "      <td>0.32</td>\n",
       "      <td>0.00</td>\n",
       "      <td>0.00</td>\n",
       "      <td>0.00</td>\n",
       "      <td>0.00</td>\n",
       "      <td>0.00</td>\n",
       "      <td>...</td>\n",
       "      <td>0.000</td>\n",
       "      <td>0.000</td>\n",
       "      <td>0.0</td>\n",
       "      <td>0.778</td>\n",
       "      <td>0.000</td>\n",
       "      <td>0.000</td>\n",
       "      <td>0.757516</td>\n",
       "      <td>0.833333</td>\n",
       "      <td>0.759949</td>\n",
       "      <td>1</td>\n",
       "    </tr>\n",
       "    <tr>\n",
       "      <th>1</th>\n",
       "      <td>0.21</td>\n",
       "      <td>0.28</td>\n",
       "      <td>0.50</td>\n",
       "      <td>0.0</td>\n",
       "      <td>0.14</td>\n",
       "      <td>0.28</td>\n",
       "      <td>0.21</td>\n",
       "      <td>0.07</td>\n",
       "      <td>0.00</td>\n",
       "      <td>0.94</td>\n",
       "      <td>...</td>\n",
       "      <td>0.000</td>\n",
       "      <td>0.132</td>\n",
       "      <td>0.0</td>\n",
       "      <td>0.372</td>\n",
       "      <td>0.180</td>\n",
       "      <td>0.048</td>\n",
       "      <td>0.858859</td>\n",
       "      <td>0.904011</td>\n",
       "      <td>0.937938</td>\n",
       "      <td>1</td>\n",
       "    </tr>\n",
       "    <tr>\n",
       "      <th>2</th>\n",
       "      <td>0.06</td>\n",
       "      <td>0.00</td>\n",
       "      <td>0.71</td>\n",
       "      <td>0.0</td>\n",
       "      <td>1.23</td>\n",
       "      <td>0.19</td>\n",
       "      <td>0.19</td>\n",
       "      <td>0.12</td>\n",
       "      <td>0.64</td>\n",
       "      <td>0.25</td>\n",
       "      <td>...</td>\n",
       "      <td>0.010</td>\n",
       "      <td>0.143</td>\n",
       "      <td>0.0</td>\n",
       "      <td>0.276</td>\n",
       "      <td>0.184</td>\n",
       "      <td>0.010</td>\n",
       "      <td>0.961152</td>\n",
       "      <td>0.979897</td>\n",
       "      <td>0.985577</td>\n",
       "      <td>1</td>\n",
       "    </tr>\n",
       "    <tr>\n",
       "      <th>3</th>\n",
       "      <td>0.00</td>\n",
       "      <td>0.00</td>\n",
       "      <td>0.00</td>\n",
       "      <td>0.0</td>\n",
       "      <td>0.63</td>\n",
       "      <td>0.00</td>\n",
       "      <td>0.31</td>\n",
       "      <td>0.63</td>\n",
       "      <td>0.31</td>\n",
       "      <td>0.63</td>\n",
       "      <td>...</td>\n",
       "      <td>0.000</td>\n",
       "      <td>0.137</td>\n",
       "      <td>0.0</td>\n",
       "      <td>0.137</td>\n",
       "      <td>0.000</td>\n",
       "      <td>0.000</td>\n",
       "      <td>0.732517</td>\n",
       "      <td>0.739239</td>\n",
       "      <td>0.689690</td>\n",
       "      <td>1</td>\n",
       "    </tr>\n",
       "    <tr>\n",
       "      <th>4</th>\n",
       "      <td>0.00</td>\n",
       "      <td>0.00</td>\n",
       "      <td>0.00</td>\n",
       "      <td>0.0</td>\n",
       "      <td>0.63</td>\n",
       "      <td>0.00</td>\n",
       "      <td>0.31</td>\n",
       "      <td>0.63</td>\n",
       "      <td>0.31</td>\n",
       "      <td>0.63</td>\n",
       "      <td>...</td>\n",
       "      <td>0.000</td>\n",
       "      <td>0.135</td>\n",
       "      <td>0.0</td>\n",
       "      <td>0.135</td>\n",
       "      <td>0.000</td>\n",
       "      <td>0.000</td>\n",
       "      <td>0.732517</td>\n",
       "      <td>0.739239</td>\n",
       "      <td>0.689690</td>\n",
       "      <td>1</td>\n",
       "    </tr>\n",
       "    <tr>\n",
       "      <th>...</th>\n",
       "      <td>...</td>\n",
       "      <td>...</td>\n",
       "      <td>...</td>\n",
       "      <td>...</td>\n",
       "      <td>...</td>\n",
       "      <td>...</td>\n",
       "      <td>...</td>\n",
       "      <td>...</td>\n",
       "      <td>...</td>\n",
       "      <td>...</td>\n",
       "      <td>...</td>\n",
       "      <td>...</td>\n",
       "      <td>...</td>\n",
       "      <td>...</td>\n",
       "      <td>...</td>\n",
       "      <td>...</td>\n",
       "      <td>...</td>\n",
       "      <td>...</td>\n",
       "      <td>...</td>\n",
       "      <td>...</td>\n",
       "      <td>...</td>\n",
       "    </tr>\n",
       "    <tr>\n",
       "      <th>4596</th>\n",
       "      <td>0.31</td>\n",
       "      <td>0.00</td>\n",
       "      <td>0.62</td>\n",
       "      <td>0.0</td>\n",
       "      <td>0.00</td>\n",
       "      <td>0.31</td>\n",
       "      <td>0.00</td>\n",
       "      <td>0.00</td>\n",
       "      <td>0.00</td>\n",
       "      <td>0.00</td>\n",
       "      <td>...</td>\n",
       "      <td>0.000</td>\n",
       "      <td>0.232</td>\n",
       "      <td>0.0</td>\n",
       "      <td>0.000</td>\n",
       "      <td>0.000</td>\n",
       "      <td>0.000</td>\n",
       "      <td>0.098599</td>\n",
       "      <td>0.115616</td>\n",
       "      <td>0.480981</td>\n",
       "      <td>0</td>\n",
       "    </tr>\n",
       "    <tr>\n",
       "      <th>4597</th>\n",
       "      <td>0.00</td>\n",
       "      <td>0.00</td>\n",
       "      <td>0.00</td>\n",
       "      <td>0.0</td>\n",
       "      <td>0.00</td>\n",
       "      <td>0.00</td>\n",
       "      <td>0.00</td>\n",
       "      <td>0.00</td>\n",
       "      <td>0.00</td>\n",
       "      <td>0.00</td>\n",
       "      <td>...</td>\n",
       "      <td>0.000</td>\n",
       "      <td>0.000</td>\n",
       "      <td>0.0</td>\n",
       "      <td>0.353</td>\n",
       "      <td>0.000</td>\n",
       "      <td>0.000</td>\n",
       "      <td>0.241241</td>\n",
       "      <td>0.157658</td>\n",
       "      <td>0.129129</td>\n",
       "      <td>0</td>\n",
       "    </tr>\n",
       "    <tr>\n",
       "      <th>4598</th>\n",
       "      <td>0.30</td>\n",
       "      <td>0.00</td>\n",
       "      <td>0.30</td>\n",
       "      <td>0.0</td>\n",
       "      <td>0.00</td>\n",
       "      <td>0.00</td>\n",
       "      <td>0.00</td>\n",
       "      <td>0.00</td>\n",
       "      <td>0.00</td>\n",
       "      <td>0.00</td>\n",
       "      <td>...</td>\n",
       "      <td>0.102</td>\n",
       "      <td>0.718</td>\n",
       "      <td>0.0</td>\n",
       "      <td>0.000</td>\n",
       "      <td>0.000</td>\n",
       "      <td>0.000</td>\n",
       "      <td>0.180828</td>\n",
       "      <td>0.248749</td>\n",
       "      <td>0.561562</td>\n",
       "      <td>0</td>\n",
       "    </tr>\n",
       "    <tr>\n",
       "      <th>4599</th>\n",
       "      <td>0.96</td>\n",
       "      <td>0.00</td>\n",
       "      <td>0.00</td>\n",
       "      <td>0.0</td>\n",
       "      <td>0.32</td>\n",
       "      <td>0.00</td>\n",
       "      <td>0.00</td>\n",
       "      <td>0.00</td>\n",
       "      <td>0.00</td>\n",
       "      <td>0.00</td>\n",
       "      <td>...</td>\n",
       "      <td>0.000</td>\n",
       "      <td>0.057</td>\n",
       "      <td>0.0</td>\n",
       "      <td>0.000</td>\n",
       "      <td>0.000</td>\n",
       "      <td>0.000</td>\n",
       "      <td>0.100411</td>\n",
       "      <td>0.208208</td>\n",
       "      <td>0.444444</td>\n",
       "      <td>0</td>\n",
       "    </tr>\n",
       "    <tr>\n",
       "      <th>4600</th>\n",
       "      <td>0.00</td>\n",
       "      <td>0.00</td>\n",
       "      <td>0.65</td>\n",
       "      <td>0.0</td>\n",
       "      <td>0.00</td>\n",
       "      <td>0.00</td>\n",
       "      <td>0.00</td>\n",
       "      <td>0.00</td>\n",
       "      <td>0.00</td>\n",
       "      <td>0.00</td>\n",
       "      <td>...</td>\n",
       "      <td>0.000</td>\n",
       "      <td>0.000</td>\n",
       "      <td>0.0</td>\n",
       "      <td>0.125</td>\n",
       "      <td>0.000</td>\n",
       "      <td>0.000</td>\n",
       "      <td>0.130631</td>\n",
       "      <td>0.208208</td>\n",
       "      <td>0.281782</td>\n",
       "      <td>0</td>\n",
       "    </tr>\n",
       "  </tbody>\n",
       "</table>\n",
       "<p>4581 rows × 54 columns</p>\n",
       "</div>"
      ],
      "text/plain": [
       "      word_freq_make  word_freq_address  word_freq_all  word_freq_3d  \\\n",
       "0               0.00               0.64           0.64           0.0   \n",
       "1               0.21               0.28           0.50           0.0   \n",
       "2               0.06               0.00           0.71           0.0   \n",
       "3               0.00               0.00           0.00           0.0   \n",
       "4               0.00               0.00           0.00           0.0   \n",
       "...              ...                ...            ...           ...   \n",
       "4596            0.31               0.00           0.62           0.0   \n",
       "4597            0.00               0.00           0.00           0.0   \n",
       "4598            0.30               0.00           0.30           0.0   \n",
       "4599            0.96               0.00           0.00           0.0   \n",
       "4600            0.00               0.00           0.65           0.0   \n",
       "\n",
       "      word_freq_our  word_freq_over  word_freq_remove  word_freq_internet  \\\n",
       "0              0.32            0.00              0.00                0.00   \n",
       "1              0.14            0.28              0.21                0.07   \n",
       "2              1.23            0.19              0.19                0.12   \n",
       "3              0.63            0.00              0.31                0.63   \n",
       "4              0.63            0.00              0.31                0.63   \n",
       "...             ...             ...               ...                 ...   \n",
       "4596           0.00            0.31              0.00                0.00   \n",
       "4597           0.00            0.00              0.00                0.00   \n",
       "4598           0.00            0.00              0.00                0.00   \n",
       "4599           0.32            0.00              0.00                0.00   \n",
       "4600           0.00            0.00              0.00                0.00   \n",
       "\n",
       "      word_freq_order  word_freq_mail  ...  char_freq_;  char_freq_(  \\\n",
       "0                0.00            0.00  ...        0.000        0.000   \n",
       "1                0.00            0.94  ...        0.000        0.132   \n",
       "2                0.64            0.25  ...        0.010        0.143   \n",
       "3                0.31            0.63  ...        0.000        0.137   \n",
       "4                0.31            0.63  ...        0.000        0.135   \n",
       "...               ...             ...  ...          ...          ...   \n",
       "4596             0.00            0.00  ...        0.000        0.232   \n",
       "4597             0.00            0.00  ...        0.000        0.000   \n",
       "4598             0.00            0.00  ...        0.102        0.718   \n",
       "4599             0.00            0.00  ...        0.000        0.057   \n",
       "4600             0.00            0.00  ...        0.000        0.000   \n",
       "\n",
       "      char_freq_[  char_freq_!  char_freq_$  char_freq_hash  \\\n",
       "0             0.0        0.778        0.000           0.000   \n",
       "1             0.0        0.372        0.180           0.048   \n",
       "2             0.0        0.276        0.184           0.010   \n",
       "3             0.0        0.137        0.000           0.000   \n",
       "4             0.0        0.135        0.000           0.000   \n",
       "...           ...          ...          ...             ...   \n",
       "4596          0.0        0.000        0.000           0.000   \n",
       "4597          0.0        0.353        0.000           0.000   \n",
       "4598          0.0        0.000        0.000           0.000   \n",
       "4599          0.0        0.000        0.000           0.000   \n",
       "4600          0.0        0.125        0.000           0.000   \n",
       "\n",
       "      capital_run_length_average  capital_run_length_longest  \\\n",
       "0                       0.757516                    0.833333   \n",
       "1                       0.858859                    0.904011   \n",
       "2                       0.961152                    0.979897   \n",
       "3                       0.732517                    0.739239   \n",
       "4                       0.732517                    0.739239   \n",
       "...                          ...                         ...   \n",
       "4596                    0.098599                    0.115616   \n",
       "4597                    0.241241                    0.157658   \n",
       "4598                    0.180828                    0.248749   \n",
       "4599                    0.100411                    0.208208   \n",
       "4600                    0.130631                    0.208208   \n",
       "\n",
       "      capital_run_length_total  spam  \n",
       "0                     0.759949     1  \n",
       "1                     0.937938     1  \n",
       "2                     0.985577     1  \n",
       "3                     0.689690     1  \n",
       "4                     0.689690     1  \n",
       "...                        ...   ...  \n",
       "4596                  0.480981     0  \n",
       "4597                  0.129129     0  \n",
       "4598                  0.561562     0  \n",
       "4599                  0.444444     0  \n",
       "4600                  0.281782     0  \n",
       "\n",
       "[4581 rows x 54 columns]"
      ]
     },
     "execution_count": 284,
     "metadata": {},
     "output_type": "execute_result"
    }
   ],
   "source": [
    "data[col_names] = scaler.fit_transform(features.values)\n",
    "data"
   ]
  },
  {
   "cell_type": "markdown",
   "id": "3777989c-6b2b-4aa5-8279-56cf2c392cae",
   "metadata": {},
   "source": [
    "#### **Feature Selection**"
   ]
  },
  {
   "cell_type": "code",
   "execution_count": 286,
   "id": "2c100edc-a435-4751-aa6c-5764abd8676c",
   "metadata": {},
   "outputs": [],
   "source": [
    "from sklearn.feature_selection import SelectKBest\n",
    "from sklearn.feature_selection import mutual_info_regression"
   ]
  },
  {
   "cell_type": "code",
   "execution_count": 287,
   "id": "0027149a-c312-4aea-8700-e5d6abcac48f",
   "metadata": {},
   "outputs": [],
   "source": [
    "# Splitting the columns into Training Columns\n",
    "training_col=data.columns.tolist()[0:53]\n",
    "\n",
    "def select_features(x_train, y_train):\n",
    "    best_feature = SelectKBest(score_func=mutual_info_regression, k='all')\n",
    "    best_feature.fit(x_train, y_train)\n",
    "    return best_feature"
   ]
  },
  {
   "cell_type": "code",
   "execution_count": 290,
   "id": "d994bbc6-3889-4ad7-90db-0a6b4c227d54",
   "metadata": {},
   "outputs": [],
   "source": [
    "# Selecting the best features used for classifying them as 'Spam'\n",
    "features= select_features(data[training_col], data['spam'])"
   ]
  },
  {
   "cell_type": "code",
   "execution_count": 291,
   "id": "6547e56c-dba4-40ae-8a7c-2b7bb5e7370d",
   "metadata": {},
   "outputs": [
    {
     "name": "stdout",
     "output_type": "stream",
     "text": [
      "SelectKBest(k='all',\n",
      "            score_func=<function mutual_info_regression at 0x00000201256A3F60>)\n"
     ]
    }
   ],
   "source": [
    "print(features)"
   ]
  },
  {
   "cell_type": "code",
   "execution_count": 292,
   "id": "f43615b0-2ba8-4075-9c9c-6fefaa44f862",
   "metadata": {},
   "outputs": [
    {
     "data": {
      "image/png": "[encoded data removed]",
      "text/plain": [
       "<Figure size 2000x1000 with 1 Axes>"
      ]
     },
     "metadata": {},
     "output_type": "display_data"
    }
   ],
   "source": [
    "plt.figure(figsize=(20, 10))\n",
    "plt.bar([i for i in training_col], features.scores_)\n",
    "plt.title(\"Important features for classifying spam emails\")\n",
    "plt.show()"
   ]
  },
  {
   "cell_type": "markdown",
   "id": "0c408f00-67f4-4da1-9eb3-593837acb729",
   "metadata": {},
   "source": [
    "### NOTE: **I will attach clear picture of this in repository.**"
   ]
  },
  {
   "cell_type": "markdown",
   "id": "5cc12a4b-95c9-4077-9786-23a14a378c3a",
   "metadata": {},
   "source": [
    "#### Step 7: Model Selection "
   ]
  },
  {
   "cell_type": "code",
   "execution_count": 308,
   "id": "966f2003-5e06-41a8-9dde-d975ee790fcb",
   "metadata": {},
   "outputs": [],
   "source": [
    "# Splitting the dataset into dependent and independent variables\n",
    "x= pd.DataFrame(data, columns=data.drop(['spam'],axis=1).columns)\n",
    "y= data['spam']"
   ]
  },
  {
   "cell_type": "code",
   "execution_count": 309,
   "id": "683bf329-59ec-4c5c-a7bb-4481ccc73662",
   "metadata": {},
   "outputs": [],
   "source": [
    "# This block will calculate **accuracy** of a model\n",
    "def getscore(model, x_train, x_test, y_train, y_test):\n",
    "    model.fit(x_train, y_train)\n",
    "    return model.score(x_test,y_test)"
   ]
  },
  {
   "cell_type": "code",
   "execution_count": 310,
   "id": "7d513b9a-31d5-4ad1-96c9-2f5fa66008b9",
   "metadata": {},
   "outputs": [],
   "source": [
    "# Using K-fold Cross validation to split the data into training and testing data using 5 folds\n",
    "\n",
    "from sklearn.model_selection import KFold\n",
    "k_fold = KFold(n_splits=5, shuffle=True)"
   ]
  },
  {
   "cell_type": "markdown",
   "id": "22d4bbf8-f4bc-43c1-9e69-77da8a55bf1f",
   "metadata": {},
   "source": [
    "### **We choose *Random Forest Classifier* for our data**"
   ]
  },
  {
   "cell_type": "code",
   "execution_count": 312,
   "id": "ec4cad68-bec7-4634-8187-83698fea7bda",
   "metadata": {},
   "outputs": [],
   "source": [
    "from sklearn.ensemble import RandomForestClassifier   "
   ]
  },
  {
   "cell_type": "code",
   "execution_count": 313,
   "id": "36f1e6db-19a3-49af-8f39-49f3826f4210",
   "metadata": {},
   "outputs": [],
   "source": [
    "rf = RandomForestClassifier(n_estimators=1000, criterion='gini', max_depth=20, min_samples_split=2, random_state=2)\n",
    "\n",
    "# Array for storing the score of Random Forest Classifier model of 5 folds\n",
    "Random_forest=[] \n",
    "\n",
    "# For storing sll the result per fold\n",
    "Foldresult=[] \n",
    "\n",
    "# For storing the accuracy per fold\n",
    "Accuracy=[]      \n",
    "\n",
    "# For storing the error per fold\n",
    "Error=[]        "
   ]
  },
  {
   "cell_type": "code",
   "execution_count": 314,
   "id": "9e4e40d5-0e18-4809-9fa2-0043ef6e8614",
   "metadata": {},
   "outputs": [],
   "source": [
    "from sklearn.metrics import confusion_matrix\n",
    "\n",
    "for train,test in k_fold.split(x):\n",
    "    x_train, x_test, y_train, y_test= x.iloc[train], x.iloc[test], y.iloc[train], y.iloc[test]   \n",
    "    Random_forest.append(getscore(rf, x_train, x_test, y_train, y_test))\n",
    "    \n",
    "    rf.fit(x_train, y_train)\n",
    "    spam_ham=rf.predict(x_test)\n",
    "    \n",
    "    # Calculating the True Positive, True Negative, False Positive and False Negative.\n",
    "    CM=confusion_matrix(y_test, rf.predict(x_test))\n",
    "    TN=CM[0][0]\n",
    "    TP=CM[1][1]\n",
    "    FN=CM[1][0]\n",
    "    FP=CM[0][1]\n",
    "    \n",
    "    # Calculating the Accuracy and Error of Model\n",
    "    accuracy = rf.score(x_test, y_test)\n",
    "    Accuracy.append(accuracy)\n",
    "    error = 1 - accuracy\n",
    "    Error.append(error)\n",
    "    \n",
    "    # Appending whole result into Foldresult\n",
    "    Foldresult.append({\"FP\":FP,\"FPR\":(FP/(FP+TN)),\"FN\":FN,\"FNR\":(FN/(TP+FN)),\"Accuracy(%)\": accuracy*100, \"Error(%)\": error*100})"
   ]
  },
  {
   "cell_type": "code",
   "execution_count": 315,
   "id": "5128a45d-e803-40fe-89a9-106663e3842b",
   "metadata": {},
   "outputs": [],
   "source": [
    "output = pd.DataFrame(Foldresult)"
   ]
  },
  {
   "cell_type": "code",
   "execution_count": 316,
   "id": "00875e8f-8694-47d5-978b-08a90d0ad838",
   "metadata": {},
   "outputs": [
    {
     "name": "stdout",
     "output_type": "stream",
     "text": [
      "\t\tFINAL RESULT OF MODEL\n",
      "╒════╤══════╤═══════════╤══════╤═══════════╤═══════════════╤════════════╕\n",
      "│    │   FP │       FPR │   FN │       FNR │   Accuracy(%) │   Error(%) │\n",
      "╞════╪══════╪═══════════╪══════╪═══════════╪═══════════════╪════════════╡\n",
      "│  0 │   22 │ 0.039356  │   24 │ 0.0670391 │       94.9836 │    5.01636 │\n",
      "├────┼──────┼───────────┼──────┼───────────┼───────────────┼────────────┤\n",
      "│  1 │   19 │ 0.0337478 │   27 │ 0.0764873 │       94.9782 │    5.02183 │\n",
      "├────┼──────┼───────────┼──────┼───────────┼───────────────┼────────────┤\n",
      "│  2 │   16 │ 0.0288809 │   27 │ 0.0745856 │       95.3057 │    4.69432 │\n",
      "├────┼──────┼───────────┼──────┼───────────┼───────────────┼────────────┤\n",
      "│  3 │    8 │ 0.0144665 │   31 │ 0.0853994 │       95.7424 │    4.25764 │\n",
      "├────┼──────┼───────────┼──────┼───────────┼───────────────┼────────────┤\n",
      "│  4 │   18 │ 0.0323741 │   32 │ 0.0888889 │       94.5415 │    5.45852 │\n",
      "╘════╧══════╧═══════════╧══════╧═══════════╧═══════════════╧════════════╛\n"
     ]
    }
   ],
   "source": [
    "print(\"\"\"\\t\\tFINAL RESULT OF MODEL\"\"\")\n",
    "\n",
    "from tabulate import tabulate\n",
    "print(tabulate(output,headers=\"keys\",tablefmt=\"fancy_grid\"))"
   ]
  },
  {
   "cell_type": "code",
   "execution_count": 317,
   "id": "d315efb7-334a-4e87-8fcb-5491fe286ba6",
   "metadata": {},
   "outputs": [
    {
     "name": "stdout",
     "output_type": "stream",
     "text": [
      "Average accuracy rate: 95.11026558028124\n",
      "Average Error rate: 4.889734419718752\n"
     ]
    }
   ],
   "source": [
    "# Calculating the Average Accuracy and Error Rates\n",
    "\n",
    "A=np.mean(Accuracy)\n",
    "E=np.mean(Error)\n",
    "print(\"Average accuracy rate:\", A*100)\n",
    "print(\"Average Error rate:\", E*100)"
   ]
  },
  {
   "cell_type": "markdown",
   "id": "23c003fc-80e2-45db-85b6-41fcc9bc3464",
   "metadata": {},
   "source": [
    "#### Step 8: Model Evaluation"
   ]
  },
  {
   "cell_type": "markdown",
   "id": "37fd034b-cbef-4170-8382-03ed419d3d15",
   "metadata": {},
   "source": [
    "##### Evaluating performance of model using ROC Curve and AUC Value.\r\n"
   ]
  },
  {
   "cell_type": "code",
   "execution_count": 320,
   "id": "c82448fa-dd2e-4b03-9b07-52c28d23dca6",
   "metadata": {},
   "outputs": [],
   "source": [
    "from sklearn.metrics import roc_curve\n",
    "from sklearn.metrics import roc_auc_score"
   ]
  },
  {
   "cell_type": "code",
   "execution_count": 321,
   "id": "edefc17b-74ee-4bbf-a7d7-b1263d392899",
   "metadata": {},
   "outputs": [
    {
     "name": "stdout",
     "output_type": "stream",
     "text": [
      "ROC-AUC Value on Training Data= 0.999953762195221\n",
      "ROC-AUC Value on Testing Data= 0.9823591127098322\n"
     ]
    }
   ],
   "source": [
    "y_train_pred = rf.predict_proba(x_train)\n",
    "a=(roc_auc_score(y_train, y_train_pred[:,1]))\n",
    "a1=print('ROC-AUC Value on Training Data=', a)\n",
    "\n",
    "y_test_pred = rf.predict_proba(x_test)\n",
    "b=(roc_auc_score(y_test, y_test_pred[:,1]))\n",
    "b1=print('ROC-AUC Value on Testing Data=',b)"
   ]
  },
  {
   "cell_type": "code",
   "execution_count": 322,
   "id": "802c9a73-2db9-4e09-8c1a-6b59cd756c10",
   "metadata": {},
   "outputs": [
    {
     "name": "stdout",
     "output_type": "stream",
     "text": [
      "[1 1 1 0 0 1 1 1 1 1 1 1 1 1 1 1 1 1 1 1 1 1 1 1 1 1 1 1 1 1 0 1 1 1 1 0 1\n",
      " 1 0 1 1 1 1 1 1 1 1 1 1 1 1 1 1 1 1 1 1 0 1 1 1 1 1 1 1 1 1 1 0 1 1 1 1 1\n",
      " 1 1 0 1 0 1 0 1 1 1 1 1 0 1 1 1 0 1 1 1 0 1 1 0 0 1 1 1 1 1 1 1 1 1 1 1 1\n",
      " 1 0 1 1 0 1 1 1 1 1 1 0 1 1 1 1 1 1 1 1 1 1 1 1 1 1 1 1 0 1 1 1 1 1 1 1 1\n",
      " 1 1 0 1 1 0 1 1 1 1 1 1 1 1 1 1 1 1 1 1 1 1 0 1 1 1 1 1 1 1 1 1 1 1 1 1 1\n",
      " 1 1 1 1 1 1 1 1 1 1 1 1 1 1 0 1 1 1 1 1 1 1 0 1 1 1 1 1 1 1 1 1 1 1 1 1 1\n",
      " 1 1 1 1 1 0 1 1 1 1 1 1 1 1 1 1 1 1 1 1 1 1 1 0 1 0 1 1 1 1 1 1 1 1 1 1 1\n",
      " 1 1 1 1 1 1 1 1 1 1 1 1 1 1 1 1 1 1 1 1 1 1 1 1 1 1 1 1 1 1 1 1 1 1 1 1 1\n",
      " 1 0 1 1 1 1 1 1 1 1 1 1 1 1 1 0 0 1 1 1 1 1 1 1 1 1 1 1 1 1 1 1 1 1 1 1 1\n",
      " 1 1 1 1 0 1 1 1 1 1 1 1 1 1 1 1 1 1 1 1 1 1 1 1 1 1 0 0 0 0 0 0 0 0 0 0 0\n",
      " 0 0 0 0 0 0 0 0 0 0 0 0 0 0 0 0 0 0 0 0 0 0 0 0 0 0 0 0 0 0 0 0 0 0 0 0 0\n",
      " 0 0 0 0 0 0 0 0 0 0 0 0 0 0 0 0 0 0 0 0 0 0 0 0 0 0 0 0 0 0 0 0 0 0 0 0 0\n",
      " 0 0 1 0 0 0 0 0 0 0 0 0 0 0 0 0 0 0 0 1 0 0 0 0 0 0 0 0 0 0 0 0 0 0 0 0 0\n",
      " 0 0 0 0 0 0 0 0 0 0 0 0 0 1 0 0 0 0 0 0 0 0 0 0 0 1 0 0 0 0 0 0 0 0 0 0 0\n",
      " 0 0 0 0 0 0 0 0 0 0 0 0 0 0 0 0 0 0 0 0 0 0 0 0 0 0 0 0 0 0 0 0 0 0 0 0 0\n",
      " 0 0 0 0 0 0 0 0 0 0 0 0 0 0 0 0 0 0 0 0 0 0 0 0 0 0 0 1 0 0 0 0 0 0 0 0 0\n",
      " 0 0 0 1 0 0 0 0 0 0 0 0 0 0 0 0 0 0 0 0 0 0 0 0 0 0 0 0 0 0 0 0 0 0 0 0 0\n",
      " 0 0 0 0 0 0 0 0 0 0 0 0 0 0 0 0 0 0 0 0 0 0 0 0 0 0 0 0 0 0 1 1 1 1 0 0 0\n",
      " 0 0 0 0 0 0 0 0 0 0 0 0 1 0 0 0 0 0 0 0 0 0 0 0 0 0 0 0 0 0 0 0 0 0 0 0 0\n",
      " 0 0 0 0 0 0 0 0 0 0 0 0 0 0 0 0 0 0 0 0 0 0 0 0 0 0 0 0 0 0 0 0 0 0 0 0 0\n",
      " 0 0 0 0 0 0 0 0 0 0 0 0 0 0 0 0 0 0 0 0 0 0 0 0 0 0 0 0 0 0 0 0 0 0 0 0 0\n",
      " 0 0 0 0 0 0 0 0 0 0 0 0 0 0 0 0 0 0 0 0 0 0 0 0 0 0 0 0 0 0 0 0 0 0 0 0 0\n",
      " 0 0 0 0 0 0 0 0 0 0 0 0 0 0 0 0 0 0 0 0 0 0 0 0 0 0 1 1 1 0 0 1 0 0 0 0 0\n",
      " 0 0 0 0 0 0 0 0 0 0 0 1 0 0 0 0 0 0 0 0 0 1 0 0 0 0 0 0 0 0 0 0 0 0 0 0 0\n",
      " 0 0 0 1 0 0 0 0 0 0 0 0 0 0 0 0 0 0 0 0 0 0 0 0 0 0 0 0]\n"
     ]
    }
   ],
   "source": [
    "spam_ham= rf.predict(x_test)\n",
    "print(spam_ham)"
   ]
  },
  {
   "cell_type": "code",
   "execution_count": 325,
   "id": "f3ddaef2-4cad-44a1-982f-ff04f249080e",
   "metadata": {},
   "outputs": [
    {
     "name": "stdout",
     "output_type": "stream",
     "text": [
      "              precision    recall  f1-score   support\n",
      "\n",
      "           0       0.94      0.97      0.96       556\n",
      "           1       0.95      0.91      0.93       360\n",
      "\n",
      "    accuracy                           0.95       916\n",
      "   macro avg       0.95      0.94      0.94       916\n",
      "weighted avg       0.95      0.95      0.95       916\n",
      "\n"
     ]
    }
   ],
   "source": [
    "from sklearn.metrics import classification_report\n",
    "print(classification_report(y_test, spam_ham))"
   ]
  },
  {
   "cell_type": "code",
   "execution_count": 327,
   "id": "d0b39ea8-54a0-4f43-94b7-93676f92b98d",
   "metadata": {},
   "outputs": [
    {
     "name": "stdout",
     "output_type": "stream",
     "text": [
      "Confusion Matrix\n",
      " [[538  18]\n",
      " [ 32 328]]\n"
     ]
    }
   ],
   "source": [
    "# Calculating and Plotting the Confusion Matrix using True Positive, True Negative, False Positive and False Negative\n",
    "CM=confusion_matrix(y_test, rf.predict(x_test))\n",
    "TN=CM[0][0]\n",
    "TP=CM[1][1]\n",
    "FN=CM[1][0]\n",
    "FP=CM[0][1]\n",
    "print(\"Confusion Matrix\\n\", CM)"
   ]
  },
  {
   "cell_type": "code",
   "execution_count": 328,
   "id": "da9d87c2-93cf-46fb-ae2e-f75d50f6412f",
   "metadata": {},
   "outputs": [
    {
     "name": "stdout",
     "output_type": "stream",
     "text": [
      "False Positive Rate: 0.03237410071942446\n",
      "False Negative Rate: 0.08888888888888889\n"
     ]
    }
   ],
   "source": [
    "# Calculating the False Positive Rate(FPR), False Negative Rate(FNR), True Positive Rate(TPR) and True Negative Rate(TNR)\n",
    "\n",
    "TPR = TP/(TP+FN)\n",
    "TNR = TN/(TN+FP)\n",
    "FPR = FP/(FP+TN)\n",
    "FNR = FN/(TP+FN)\n",
    "print(\"False Positive Rate:\",FPR)\n",
    "print(\"False Negative Rate:\",FNR)"
   ]
  },
  {
   "cell_type": "code",
   "execution_count": 329,
   "id": "51272e25-2188-4395-8a18-23267cc806e1",
   "metadata": {},
   "outputs": [
    {
     "data": {
      "image/png": "[encoded data removed]",
      "text/plain": [
       "<Figure size 640x480 with 1 Axes>"
      ]
     },
     "metadata": {},
     "output_type": "display_data"
    }
   ],
   "source": [
    "# Plotting the ROC Curve using FPR and TPR\n",
    "FPR, TPR, THRESHOLD = roc_curve(y_test, spam_ham)\n",
    "THRESHOLD\n",
    "\n",
    "def plot_roc_curve(FPR, TPR):\n",
    "    plt.plot(FPR, TPR, color='green', label='ROC')\n",
    "    plt.plot([0, 1], [0, 1], color='red', linestyle='--')\n",
    "    plt.xlabel('False Positive Rate')\n",
    "    plt.ylabel('True Positive Rate')\n",
    "    plt.title('Receiver Operating Characteristic (ROC) Curve')\n",
    "    plt.legend()\n",
    "    plt.show()\n",
    "\n",
    "plot_roc_curve(FPR,TPR)"
   ]
  },
  {
   "cell_type": "markdown",
   "id": "4c64e50b-72d7-4b98-8b5b-457b5c0efab1",
   "metadata": {},
   "source": [
    "#### ROC Curve tends more towards True Positive Rate 1.0 so it depicts that our model is performing eell in the Classification of Email as Spam or Ham."
   ]
  },
  {
   "cell_type": "markdown",
   "id": "4e3e3d88-59ca-4ed4-8862-0f47b5833ca8",
   "metadata": {},
   "source": [
    "# **SUMMARY**"
   ]
  },
  {
   "cell_type": "markdown",
   "id": "06617604-454b-4afd-80b4-89ee6e8223f7",
   "metadata": {},
   "source": [
    "### 1. **Model is 96% accurate.**\n",
    "### 2. We used **Random Forest Classifier** to predict e-mail as spam or not spam.\n",
    "### 3. Among **4,601 e-mails 2,788 are not spam while 1,813 are spam**.\n",
    "### 4. We used **UC Irvine Machine Learning Repository** for spambase data."
   ]
  },
  {
   "cell_type": "markdown",
   "id": "2f352e6d-6736-48e7-a199-63f320adf34b",
   "metadata": {},
   "source": [
    "### 5. Average accuracy rate is **95.11%**.\n",
    "### 6. Average Error rate is **4.88%**.\n",
    "### 7. ROC-AUC Value on Training Data is **0.999953762195221**.\n",
    "### 8. ROC-AUC Value on Testing Data is **0.9823591127098322**.\n",
    "### 9. False Positive Rate is **0.03237410071942446**.\n",
    "### 10. False Negative Rate is **0.08888888888888889**.\n",
    "### 11. **ROC Curve tends towards true positive rate 1.0 which depicts that this model is working fine.**"
   ]
  },
  {
   "cell_type": "code",
   "execution_count": null,
   "id": "3cc03fd1-6dec-4900-99cd-e397edfe8a7b",
   "metadata": {},
   "outputs": [],
   "source": []
  }
 ],
 "metadata": {
  "kernelspec": {
   "display_name": "Python 3 (ipykernel)",
   "language": "python",
   "name": "python3"
  },
  "language_info": {
   "codemirror_mode": {
    "name": "ipython",
    "version": 3
   },
   "file_extension": ".py",
   "mimetype": "text/x-python",
   "name": "python",
   "nbconvert_exporter": "python",
   "pygments_lexer": "ipython3",
   "version": "3.12.4"
  }
 },
 "nbformat": 4,
 "nbformat_minor": 5
}
